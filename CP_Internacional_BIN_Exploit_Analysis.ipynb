{
  "cells": [
    {
      "cell_type": "code",
      "execution_count": 3,
      "metadata": {
        "id": "6YYYqGJ9HdxU"
      },
      "outputs": [],
      "source": [
        "import pandas as pd\n",
        "import numpy as np"
      ]
    },
    {
      "cell_type": "markdown",
      "metadata": {
        "id": "8dtZMRg1H4cH"
      },
      "source": [
        "What does the alert querry itself returns??\n",
        "\n",
        "# Alert Criteria for Suspect Merchants\n",
        "\n",
        "The following criteria are used to identify suspect merchants for generating an alert:\n",
        "\n",
        "## 1. Transações de Risco\n",
        "- O comerciante deve ter transações de risco com tipos específicos: `'velocity_check'`, `'location_not_allowed'`, `'cp_location'`, ou `'cnp_location'`.\n",
        "\n",
        "## 2. Transações Internacionais\n",
        "- As transações de risco devem ser internacionais (`t7.international IS TRUE`).\n",
        "\n",
        "## 3. Métodos de Captura de Transação\n",
        "- As transações válidas devem ter métodos de captura `'mpos'`, `'contactless'`, ou `'emv'`.\n",
        "\n",
        "## 4. Validação do Cartão\n",
        "- As transações devem ter um `card_token_id` não nulo.\n",
        "\n",
        "## 5. Exclusão de Especificações Bancárias\n",
        "- O nome do banco emissor (`issuer`) deve ser diferente de `'caixa economica federal'`.\n",
        "\n",
        "## 6. Estado do Comerciante\n",
        "- O estado do comerciante deve ser `'approved'`.\n",
        "\n",
        "## 7. Período de Transação\n",
        "- As transações devem ter ocorrido nos últimos 3 dias (`DATETIME(t.created_at) >= CURRENT_DATE() - 1`).\n",
        "\n",
        "## 8. Recência da Conta\n",
        "- O comerciante não deve ser um novo cliente, ou seja, a conta deve ter sido criada há mais de 90 dias (`creation > 90`).\n",
        "\n",
        "## 9. Concentração de BIN Internacional\n",
        "- O comerciante não deve ter uma alta concentração de transações com emissores internacionais. A condição é que a proporção de transações internacionais não seja maior que 50% do total de transações.\n",
        "\n",
        "## 10. Contagem de Transações em Janelas de Tempo\n",
        "Dependendo do tempo de criação da conta (`creation`) e se o comerciante é pessoa física (`is_PF`), a contagem de transações em janelas de tempo de 3, 10, 20 e 40 minutos deve atender aos seguintes critérios:\n",
        "- **Para Pessoa Física (is_PF = TRUE)**:\n",
        "  - Contagem de transações (int_3min, int_10min, int_20min, int_40min) dentro dos limites definidos para criação maior ou menor que 90 dias.\n",
        "- **Para Pessoa Jurídica (is_PF = FALSE)**:\n",
        "  - Contagem de transações dentro dos limites definidos para criação maior ou menor que 180 dias.\n",
        "\n",
        "## 11. Exclusões Específicas\n",
        "- O comerciante não deve estar nas listas de exceções específicas (`monitoring_not_to_analyse` e `inkman_score`).\n",
        "\n",
        "Esses critérios são aplicados para identificar comportamentos suspeitos de fraude ou abuso nas transações, e os comerciantes que atendem a esses critérios são marcados com um alerta detalhado e categorizado como suspeito.\n"
      ]
    },
    {
      "cell_type": "markdown",
      "metadata": {
        "id": "zxuktdAFKAm3"
      },
      "source": [
        "Frist I'll take a look at the alerts that are from *PJ* and were created in the *last 180 days.*\n",
        "Then I'll make the same analysis for *PF* that were create in the last *180 days*.\n",
        "Try to find patterns where the alert works well, and them \"fix\" the querry.\n"
      ]
    },
    {
      "cell_type": "markdown",
      "metadata": {
        "id": "svevx05uHtSO"
      },
      "source": []
    },
    {
      "cell_type": "code",
      "execution_count": 4,
      "metadata": {
        "id": "i370kh10H4Ub"
      },
      "outputs": [],
      "source": [
        "data_cnpj = pd.read_csv(\"data/cp_international_bin_cnpj.csv\")\n",
        "data_cpf = pd.read_csv(\"data/cp_international_bin_cpf.csv\")"
      ]
    },
    {
      "cell_type": "code",
      "execution_count": 5,
      "metadata": {},
      "outputs": [
        {
          "name": "stdout",
          "output_type": "stream",
          "text": [
            "<class 'pandas.core.frame.DataFrame'>\n",
            "RangeIndex: 104 entries, 0 to 103\n",
            "Data columns (total 17 columns):\n",
            " #   Column                                      Non-Null Count  Dtype  \n",
            "---  ------                                      --------------  -----  \n",
            " 0   user_id                                     104 non-null    int64  \n",
            " 1   status                                      104 non-null    object \n",
            " 2   status_reason                               25 non-null     object \n",
            " 3   status_1                                    104 non-null    object \n",
            " 4   active_days_since_aquisition_from_merchant  104 non-null    int64  \n",
            " 5   approved_transactions_count_from_merchant   104 non-null    int64  \n",
            " 6   approved_amount_sum_from_merchant           104 non-null    float64\n",
            " 7   cbk_tpv_ratio                               8 non-null      float64\n",
            " 8   total_billing_amount                        8 non-null      float64\n",
            " 9   total_chargebacks                           8 non-null      float64\n",
            " 10  paid_ratio                                  8 non-null      float64\n",
            " 11  elo_frauds_reports                          104 non-null    int64  \n",
            " 12  hiper_frauds_reports                        104 non-null    int64  \n",
            " 13  master_frauds_reports                       104 non-null    int64  \n",
            " 14  visa_frauds_reports                         104 non-null    int64  \n",
            " 15  tax_regime_from_cnpj                        95 non-null     object \n",
            " 16  months_diff                                 102 non-null    float64\n",
            "dtypes: float64(6), int64(7), object(4)\n",
            "memory usage: 13.9+ KB\n"
          ]
        }
      ],
      "source": [
        "data_cnpj.info()"
      ]
    },
    {
      "cell_type": "code",
      "execution_count": 6,
      "metadata": {},
      "outputs": [
        {
          "name": "stderr",
          "output_type": "stream",
          "text": [
            "/tmp/ipykernel_52593/2141584214.py:2: FutureWarning: Series.__getitem__ treating keys as positions is deprecated. In a future version, integer keys will always be treated as labels (consistent with DataFrame behavior). To access a value by position, use `ser.iloc[pos]`\n",
            "  active_cnpj = data_cnpj[data_cnpj['status'] == 'active'].count()[0]\n",
            "/tmp/ipykernel_52593/2141584214.py:3: FutureWarning: Series.__getitem__ treating keys as positions is deprecated. In a future version, integer keys will always be treated as labels (consistent with DataFrame behavior). To access a value by position, use `ser.iloc[pos]`\n",
            "  blocked_cnpj = data_cnpj[data_cnpj['status'] == 'blocked'].count()[0]\n",
            "/tmp/ipykernel_52593/2141584214.py:5: FutureWarning: Series.__getitem__ treating keys as positions is deprecated. In a future version, integer keys will always be treated as labels (consistent with DataFrame behavior). To access a value by position, use `ser.iloc[pos]`\n",
            "  active_cpf = data_cpf[data_cpf['status'] == 'active'].count()[0]\n",
            "/tmp/ipykernel_52593/2141584214.py:6: FutureWarning: Series.__getitem__ treating keys as positions is deprecated. In a future version, integer keys will always be treated as labels (consistent with DataFrame behavior). To access a value by position, use `ser.iloc[pos]`\n",
            "  blocked_cpf = data_cpf[data_cpf['status'] == 'blocked'].count()[0]\n"
          ]
        }
      ],
      "source": [
        "total_cnpj = data_cnpj['status'].count()\n",
        "active_cnpj = data_cnpj[data_cnpj['status'] == 'active'].count()[0]\n",
        "blocked_cnpj = data_cnpj[data_cnpj['status'] == 'blocked'].count()[0]\n",
        "total_cpf = data_cpf['status'].count()\n",
        "active_cpf = data_cpf[data_cpf['status'] == 'active'].count()[0]\n",
        "blocked_cpf = data_cpf[data_cpf['status'] == 'blocked'].count()[0]"
      ]
    },
    {
      "cell_type": "code",
      "execution_count": 15,
      "metadata": {},
      "outputs": [],
      "source": [
        "TP_cnpj_block = blocked_cnpj/total_cnpj*100\n",
        "TP_cpf_block = blocked_cpf/total_cpf*100"
      ]
    },
    {
      "cell_type": "code",
      "execution_count": 17,
      "metadata": {
        "id": "Eo73zeffH4FN"
      },
      "outputs": [
        {
          "name": "stdout",
          "output_type": "stream",
          "text": [
            "In the last 90 days, out of 104 CNPJ that were flagged by the alert. 21 are still blocked and 82 are active. 20.19% are TP blocked. \n",
            "\n",
            "In the last 90 days, out of 322 CPF that were flagged by the alert. 153 are still blocked and 166 are active. 47.52% are TP blocked. \n",
            "\n"
          ]
        }
      ],
      "source": [
        "print(f\"In the last 90 days, out of {total_cnpj} CNPJ that were flagged by the alert. {blocked_cnpj} are still blocked and {active_cnpj} are active. {TP_cnpj_block:.2f}% are TP blocked.\",'\\n')\n",
        "\n",
        "print(f\"In the last 90 days, out of {total_cpf} CPF that were flagged by the alert. {blocked_cpf} are still blocked and {active_cpf} are active. {TP_cpf_block:.2f}% are TP blocked.\",'\\n')\n",
        "\n"
      ]
    },
    {
      "cell_type": "markdown",
      "metadata": {},
      "source": [
        "It's very important to increase CNPJ precision, and to understand how to increase even further precision on CPF."
      ]
    },
    {
      "cell_type": "markdown",
      "metadata": {},
      "source": []
    }
  ],
  "metadata": {
    "colab": {
      "provenance": []
    },
    "kernelspec": {
      "display_name": "Python 3",
      "name": "python3"
    },
    "language_info": {
      "codemirror_mode": {
        "name": "ipython",
        "version": 3
      },
      "file_extension": ".py",
      "mimetype": "text/x-python",
      "name": "python",
      "nbconvert_exporter": "python",
      "pygments_lexer": "ipython3",
      "version": "3.10.12"
    }
  },
  "nbformat": 4,
  "nbformat_minor": 0
}
